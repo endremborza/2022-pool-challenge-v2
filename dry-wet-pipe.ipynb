{
 "cells": [
  {
   "cell_type": "markdown",
   "metadata": {},
   "source": [
    "# DRY/WET alapelvek"
   ]
  },
  {
   "cell_type": "markdown",
   "metadata": {},
   "source": [
    "### **FOGALMAK:**\n",
    "* **DRY** = **D**o not **R**epeat **Y**ourself\n",
    "* **WET** = **W**rite **E**very **T**ime\n",
    "\n",
    "A DRY és WET megközelítések nem zárják ki egymást feltétlenül. Például nem érdemes függvényt írni egy olyan feladatra, amit csak egyszer végzel el. Viszont jelentősen megnövelheti az olvashatóságát a kódodnak, amikor az adott feladat hosszú, illetve segít abban, hogy könnyedén tudd frissíteni a megoldásodat, anélkül hogy elvesznél az erdőben."
   ]
  },
  {
   "cell_type": "markdown",
   "metadata": {},
   "source": [
    "### Hogyan írjunk DRY kódot? -3 bevett stratégia van erre:\n",
    "1. Írj függvényeket, amiket meg tudsz hívni. Így nem kell minden alkalmazáskor ugyanazt leírni\n",
    "2. Írj loopokat, hogy a repetitív feladatokat iteratívan oldd meg\n",
    "3. Írj feltételeket, hogy a különböző kimenetekre kontrollálni tudj (if-elif-else)"
   ]
  },
  {
   "cell_type": "markdown",
   "metadata": {},
   "source": [
    "### Egy bevezető szemléltetése a WET kódnak:"
   ]
  },
  {
   "cell_type": "code",
   "execution_count": 1,
   "metadata": {},
   "outputs": [
    {
     "name": "stdout",
     "output_type": "stream",
     "text": [
      "1\n",
      "2\n",
      "3\n",
      "4\n",
      "5\n"
     ]
    }
   ],
   "source": [
    "print(1)\n",
    "print(2)\n",
    "print(3)\n",
    "print(4)\n",
    "print(5)"
   ]
  },
  {
   "cell_type": "markdown",
   "metadata": {},
   "source": [
    "### Amit könnyedén lehet orvosolni egy for loop-al:"
   ]
  },
  {
   "cell_type": "code",
   "execution_count": 2,
   "metadata": {
    "scrolled": true
   },
   "outputs": [
    {
     "name": "stdout",
     "output_type": "stream",
     "text": [
      "1\n",
      "2\n",
      "3\n",
      "4\n",
      "5\n"
     ]
    }
   ],
   "source": [
    "for i in range(1, 6):\n",
    "    print(i)"
   ]
  },
  {
   "cell_type": "markdown",
   "metadata": {},
   "source": [
    "### Itt egy másik WET kód példa:"
   ]
  },
  {
   "cell_type": "code",
   "execution_count": 3,
   "metadata": {},
   "outputs": [],
   "source": [
    "x = y = 40"
   ]
  },
  {
   "cell_type": "code",
   "execution_count": 4,
   "metadata": {},
   "outputs": [
    {
     "name": "stdout",
     "output_type": "stream",
     "text": [
      "42\n"
     ]
    }
   ],
   "source": [
    "if x > y:\n",
    "    z = x + 1\n",
    "else:\n",
    "    z = y + 2\n",
    "print(z)"
   ]
  },
  {
   "cell_type": "markdown",
   "metadata": {},
   "source": [
    "### Amit megint csak könnyen DRY-á lehet alakítani:\n",
    "Így már nem kell minden eshetőségkor külön értéket adni z-nek"
   ]
  },
  {
   "cell_type": "code",
   "execution_count": 5,
   "metadata": {},
   "outputs": [
    {
     "name": "stdout",
     "output_type": "stream",
     "text": [
      "42\n"
     ]
    }
   ],
   "source": [
    "z = x + 1 if x > y else y + 2\n",
    "print(z)"
   ]
  },
  {
   "cell_type": "markdown",
   "metadata": {},
   "source": [
    "## Na de csapjunk bele valami szaftosabba!"
   ]
  },
  {
   "cell_type": "markdown",
   "metadata": {},
   "source": [
    "## 1. Adat beolvasása"
   ]
  },
  {
   "cell_type": "code",
   "execution_count": 6,
   "metadata": {},
   "outputs": [],
   "source": [
    "import pandas as pd\n",
    "import numpy as np\n",
    "\n",
    "df = pd.read_parquet(\n",
    "    \"https://borza-public-data.s3.eu-central-1.amazonaws.com/ha-data/ha-2019-05-18.parquet\"\n",
    ")"
   ]
  },
  {
   "cell_type": "markdown",
   "metadata": {},
   "source": [
    "### Biztos jó a for loop?\n",
    "* Ezt le ne futtassa senki (!)"
   ]
  },
  {
   "cell_type": "code",
   "execution_count": null,
   "metadata": {},
   "outputs": [],
   "source": [
    "for index, row in df.iterrows():\n",
    "    if row[\"horsepower\"] <= 200:\n",
    "        row[\"category\"] = \"gyenge\"\n",
    "    else:\n",
    "        row[\"category\"] = \"bika\""
   ]
  },
  {
   "cell_type": "markdown",
   "metadata": {},
   "source": [
    "### VAGY LEHET MÉG JAVÍTANI RAJTA?\n",
    "* A NUMPY segítségünkre siet, igen!\n",
    "* Látjuk, hogy sokkal DRY-abb\n",
    "* De emellett az is előny, hogy lefut fényévekkel gyorsabban"
   ]
  },
  {
   "cell_type": "code",
   "execution_count": 7,
   "metadata": {},
   "outputs": [],
   "source": [
    "df['category'] = np.where(df['horsepower'] <= 200, 'gyenge', 'bika')"
   ]
  },
  {
   "cell_type": "markdown",
   "metadata": {},
   "source": [
    "## HIÁNYZÓ ÉRTÉKEK IMPUTÁLÁSA PÉLDA"
   ]
  },
  {
   "cell_type": "markdown",
   "metadata": {},
   "source": [
    "### 1. HÁNY SZÁZALÉKA HIÁNYZIK AZ EGYES VÁLTOZÓKNAK?"
   ]
  },
  {
   "cell_type": "code",
   "execution_count": 8,
   "metadata": {},
   "outputs": [
    {
     "data": {
      "text/plain": [
       "parsed_price         0.000000\n",
       "ÁLLÍTHATÓ KORMÁNY    0.000000\n",
       "CD-RÁDIÓ             0.000000\n",
       "KLÍMA                0.000000\n",
       "ALUFELNI             0.000000\n",
       "ESP                  0.000000\n",
       "LÉGZSÁK              0.000000\n",
       "FŰTHETŐ TÜKÖR        0.000000\n",
       "ASR                  0.000000\n",
       "KÖDLÁMPA             0.000000\n",
       "ISOFIX               0.000000\n",
       "BLUETOOTH            0.000000\n",
       "FŰTHETŐ ÜLÉS         0.000000\n",
       "CENTRÁLZÁR           0.000000\n",
       "AUTOMATA             0.000000\n",
       "BŐR                  0.000000\n",
       "SZÍNEZETT ÜVEG       0.000000\n",
       "GPS                  0.000000\n",
       "FŰTHETŐ SZÉLVÉDŐ     0.000000\n",
       "HIFI                 0.000000\n",
       "cartype              0.000000\n",
       "year                 0.000000\n",
       "cc                   0.000000\n",
       "horsepower           0.000000\n",
       "brand                0.000000\n",
       "PÓTKERÉK             0.000000\n",
       "category             0.000000\n",
       "fuel                 0.001543\n",
       "kms                  0.007759\n",
       "dtype: float64"
      ]
     },
     "execution_count": 8,
     "metadata": {},
     "output_type": "execute_result"
    }
   ],
   "source": [
    "df.isna().mean().sort_values()"
   ]
  },
  {
   "cell_type": "markdown",
   "metadata": {},
   "source": [
    "### 2. PÓTOLJUK!"
   ]
  },
  {
   "cell_type": "code",
   "execution_count": 9,
   "metadata": {},
   "outputs": [],
   "source": [
    "df[\"fuel\"].fillna(0, inplace=True)\n",
    "df[\"kms\"].fillna(1, inplace=True)\n",
    "df[\"power_per_price\"] = df[\"horsepower\"] / df[\"parsed_price\"]"
   ]
  },
  {
   "cell_type": "markdown",
   "metadata": {},
   "source": [
    "### 3. VAGY CSINÁLJUK ELEGÁNSABBAN:"
   ]
  },
  {
   "cell_type": "markdown",
   "metadata": {},
   "source": [
    "írjuk meg előre a függvényekben a folyamatokat és utána a pipe operatorral hajtsuk végre egyben és átláthatóan a feladatokat!"
   ]
  },
  {
   "cell_type": "code",
   "execution_count": 10,
   "metadata": {},
   "outputs": [],
   "source": [
    "def hianyzo_ertekek_imputalasa(df):\n",
    "    df[\"fuel\"].fillna(0, inplace=True)\n",
    "    df[\"kms\"].fillna(1, inplace=True)\n",
    "    return df\n",
    "\n",
    "def add_features(df):\n",
    "    df[\"power_per_price\"] = df[\"horsepower\"] / df[\"parsed_price\"]"
   ]
  },
  {
   "cell_type": "markdown",
   "metadata": {},
   "source": [
    "és ha nem csak hiányzó értékeket imputálnánk, hanem mást is, akkor jelentősen átláthatóbb lesz a kódunk"
   ]
  },
  {
   "cell_type": "markdown",
   "metadata": {},
   "source": [
    "### Használjuk a pipe operátort, ami lehetővé teszi, hogy láncszerűen hajtsunk végre az adatunkon függvényeket!"
   ]
  },
  {
   "cell_type": "code",
   "execution_count": 11,
   "metadata": {},
   "outputs": [],
   "source": [
    "(\n",
    "    df.pipe(hianyzo_ertekek_imputalasa)\n",
    "    .pipe(add_features)\n",
    ")"
   ]
  },
  {
   "cell_type": "markdown",
   "metadata": {},
   "source": [
    "Nyilván, ez úgy igazán látványos, ha sok változó esetében imputálunk, akár eltérő módokon és nem egy új változót hozunk létre, hanem többet"
   ]
  }
 ],
 "metadata": {
  "kernelspec": {
   "display_name": "Python 3",
   "language": "python",
   "name": "python3"
  },
  "language_info": {
   "codemirror_mode": {
    "name": "ipython",
    "version": 3
   },
   "file_extension": ".py",
   "mimetype": "text/x-python",
   "name": "python",
   "nbconvert_exporter": "python",
   "pygments_lexer": "ipython3",
   "version": "3.8.10"
  }
 },
 "nbformat": 4,
 "nbformat_minor": 2
}
